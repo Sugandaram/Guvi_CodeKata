{
 "cells": [
  {
   "cell_type": "markdown",
   "id": "9f0e34f5",
   "metadata": {},
   "source": [
    "#                                                Absolute Beginner"
   ]
  },
  {
   "cell_type": "code",
   "execution_count": 1,
   "id": "0c051570",
   "metadata": {},
   "outputs": [
    {
     "name": "stdout",
     "output_type": "stream",
     "text": [
      "2\n",
      "8\n"
     ]
    }
   ],
   "source": [
    "'''1. You are given with a number \"N\", find its cube.\n",
    "\n",
    "Input Description:\n",
    "A positive integer is provided.\n",
    "\n",
    "Output Description:\n",
    "Find the cube of the number.\n",
    "\n",
    "Sample Input :\n",
    "2\n",
    "Sample Output :\n",
    "8'''\n",
    "\n",
    "\n",
    "N=int(input())\n",
    "print(N**3)"
   ]
  },
  {
   "cell_type": "code",
   "execution_count": 2,
   "id": "c76b2c9f",
   "metadata": {},
   "outputs": [
    {
     "name": "stdout",
     "output_type": "stream",
     "text": [
      "2\n",
      "12.57\n"
     ]
    }
   ],
   "source": [
    "'''2. You are provided with the radius of a circle \"A\". Find the length of its circumference.\n",
    "\n",
    "Note: In case the output is coming in decimal, roundoff to 2nd decimal place. In case the input is a negative number, print \"Error\".\n",
    "\n",
    "Input Description:\n",
    "The Radius of a circle is provided as the input of the program.\n",
    "\n",
    "Output Description:\n",
    "Calculate and print the Circumference of the circle corresponding to the input radius up to two decimal places.\n",
    "\n",
    "Sample Input :\n",
    "2\n",
    "Sample Output :\n",
    "12.57'''\n",
    "\n",
    "\n",
    "\n",
    "A = float(input())\n",
    "C = 2*(22*A)\n",
    "D = C/7\n",
    "print(round(D,2))"
   ]
  },
  {
   "cell_type": "code",
   "execution_count": 3,
   "id": "32b560db",
   "metadata": {},
   "outputs": [
    {
     "name": "stdout",
     "output_type": "stream",
     "text": [
      "2\n",
      "2\n"
     ]
    }
   ],
   "source": [
    "'''3. You are provided with a number, \"N\". Find its factorial.\n",
    "\n",
    "Input Description:\n",
    "A positive integer is provided as an input.\n",
    "\n",
    "Output Description:\n",
    "Print the factorial of the integer.\n",
    "\n",
    "Sample Input :\n",
    "2\n",
    "Sample Output :\n",
    "2'''\n",
    "\n",
    "\n",
    "\n",
    "N=int(input())\n",
    "product=1\n",
    "for i in range(1,N+1):\n",
    "    product*=i\n",
    "print(product)"
   ]
  },
  {
   "cell_type": "code",
   "execution_count": 4,
   "id": "419aa1b8",
   "metadata": {},
   "outputs": [
    {
     "name": "stdout",
     "output_type": "stream",
     "text": [
      "2\n",
      "2000\n",
      "200000\n"
     ]
    }
   ],
   "source": [
    "'''4. You are given a number A in Kilometers. Convert this into B: Meters and C: Centi-Metres.\n",
    "\n",
    "Input Description:\n",
    "A number \"A\" representing some distance in kilometer is provided to you as the input.\n",
    "\n",
    "Output Description:\n",
    "Convert and print this value in meters and centimeters.\n",
    "\n",
    "Sample Input :\n",
    "2\n",
    "Sample Output :\n",
    "2000\n",
    "200000'''\n",
    "\n",
    "\n",
    "\n",
    "A=int(input())\n",
    "print(A*1000)\n",
    "print(A*100000)"
   ]
  },
  {
   "cell_type": "code",
   "execution_count": 5,
   "id": "b55afe4e",
   "metadata": {},
   "outputs": [
    {
     "name": "stdout",
     "output_type": "stream",
     "text": [
      "2\n",
      "2 4 6\n"
     ]
    }
   ],
   "source": [
    "'''5. Print the First 3 multiples of the given number \"N\". (N is a positive integer)\n",
    "\n",
    "Note: print the characters with a single space between them.\n",
    "\n",
    "Input Description:\n",
    "A positive integer is provided to you as an input.\n",
    "\n",
    "Output Description:\n",
    "Print the First 3 multiples of the number with single spaces between them as an output.\n",
    "\n",
    "Sample Input :\n",
    "2\n",
    "Sample Output :\n",
    "2 4 6'''\n",
    "\n",
    "\n",
    "\n",
    "N = int(input())\n",
    "print(N,N*2,N*3)"
   ]
  },
  {
   "cell_type": "code",
   "execution_count": 6,
   "id": "aca817fb",
   "metadata": {},
   "outputs": [
    {
     "name": "stdout",
     "output_type": "stream",
     "text": [
      "23 1\n",
      "1\n"
     ]
    }
   ],
   "source": [
    "'''6. You are provided with two numbers. Find and print the smaller number.\n",
    "\n",
    "Input Description:\n",
    "You are provided with two numbers as input.\n",
    "\n",
    "Output Description:\n",
    "Print the small number out of the two numbers.\n",
    "\n",
    "Sample Input :\n",
    "23 1\n",
    "Sample Output :\n",
    "1'''\n",
    "\n",
    "\n",
    "\n",
    "arr = list(map(int,input().split()))\n",
    "print(min(arr))"
   ]
  },
  {
   "cell_type": "code",
   "execution_count": 7,
   "id": "e4f0fa18",
   "metadata": {},
   "outputs": [
    {
     "name": "stdout",
     "output_type": "stream",
     "text": [
      "1000 2 5\n",
      "100.0\n"
     ]
    }
   ],
   "source": [
    "'''7. You are given with Principle amount($), Interest Rate(%) and Time (years) in that order. Find Simple Interest.\n",
    "\n",
    "Print the output up to two decimal places (Round-off if necessary).\n",
    "\n",
    "(S.I. = P*T*R/100)\n",
    "\n",
    "Input Description:\n",
    "Three values are given to you as the input. these values correspond to Principle amount, Interest Rate and Time in that particular order.\n",
    "\n",
    "Output Description:\n",
    "Find the Simple interest and print it up to two decimal places. Round off if required.\n",
    "\n",
    "Sample Input :\n",
    "1000 2 5\n",
    "Sample Output :\n",
    "100.00'''\n",
    "\n",
    "\n",
    "\n",
    "P,T,R = map(float,input().split())\n",
    "A = P*T*R\n",
    "B = A/100\n",
    "print (round(B, 2))"
   ]
  },
  {
   "cell_type": "code",
   "execution_count": 8,
   "id": "da5fb15e",
   "metadata": {},
   "outputs": [
    {
     "name": "stdout",
     "output_type": "stream",
     "text": [
      "1\n",
      "1\n",
      "2\n"
     ]
    }
   ],
   "source": [
    "'''8. You are given Two Numbers, A and B. If C = A + B. Find C.\n",
    "\n",
    "Note: Round off the output to a single decimal place.\n",
    "\n",
    "Input Description:\n",
    "You are provided with two numbers A and B.\n",
    "\n",
    "Output Description:\n",
    "Find the sum of the two numbers (A + B)\n",
    "\n",
    "Sample Input :\n",
    "1\n",
    "1\n",
    "Sample Output :\n",
    "2'''\n",
    "\n",
    "\n",
    "A=int(input())\n",
    "B=int(input())\n",
    "C=A+B\n",
    "print(round(C))\n",
    "    "
   ]
  },
  {
   "cell_type": "code",
   "execution_count": 9,
   "id": "2b5df582",
   "metadata": {},
   "outputs": [
    {
     "name": "stdout",
     "output_type": "stream",
     "text": [
      "2\n",
      "3\n",
      "6.0\n"
     ]
    }
   ],
   "source": [
    "'''9. You are given A = Length of a rectangle & B = breadth of a rectangle. Find its area “C”.\n",
    "\n",
    "(A and B are natural numbers)\n",
    "\n",
    "Input Description:\n",
    "The inputs are two natural numbers representing the length and the breadth of a rectangle.\n",
    "\n",
    "Output Description:\n",
    "Find the area of the rectangle formed by the provided input. Round off the answer to the first decimal place if required.\n",
    "\n",
    "Sample Input :\n",
    "2\n",
    "3\n",
    "Sample Output :\n",
    "6'''\n",
    "\n",
    "\n",
    "A = float(input())\n",
    "\n",
    "B = float(input())\n",
    "\n",
    "area = A * B\n",
    "\n",
    "print(round(area,1))"
   ]
  },
  {
   "cell_type": "code",
   "execution_count": 13,
   "id": "fa56f6ed",
   "metadata": {},
   "outputs": [
    {
     "name": "stdout",
     "output_type": "stream",
     "text": [
      "2020\n",
      "Y\n"
     ]
    }
   ],
   "source": [
    "'''10. Let \"A\" be a year, write a program to check whether this year is a leap year or not.\n",
    "\n",
    "Print \"Y\" if its a leap year and \"N\" if its a common year.\n",
    "\n",
    "Input Description:\n",
    "A Year is the input in the form of a positive integer.\n",
    "\n",
    "Output Description:\n",
    "Print \"Y\" if its a leap year and \"N\" if its a common year.\n",
    "\n",
    "Sample Input :\n",
    "2020\n",
    "Sample Output :\n",
    "Y'''\n",
    "\n",
    "def LeapYearCheck(input_year): \n",
    "    if (input_year % 4) == 0: \n",
    "        if (input_year % 100) == 0: \n",
    "            if (input_year % 400) == 0: \n",
    "                return True\n",
    "            else: \n",
    "                return False\n",
    "        else: \n",
    "             return True\n",
    "    else: \n",
    "        return False  \n",
    "# Driver Code  \n",
    "input_year = int(input())\n",
    "if(LeapYearCheck(input_year)): \n",
    "    print(\"Y\") \n",
    "else: \n",
    "    print(\"N\")"
   ]
  },
  {
   "cell_type": "code",
   "execution_count": 14,
   "id": "0fe82bde",
   "metadata": {},
   "outputs": [
    {
     "name": "stdout",
     "output_type": "stream",
     "text": [
      "2\n",
      "Even\n"
     ]
    }
   ],
   "source": [
    "'''11. You are provided with a number check whether its odd or even. \n",
    "\n",
    "Print \"Odd\" or \"Even\" for the corresponding cases.\n",
    "\n",
    "Note: In case of a decimal, Round off to nearest integer and then find the output. Incase the input is zero, print \"Zero\".\n",
    "\n",
    "Input Description:\n",
    "A number is provided as the input.\n",
    "\n",
    "Output Description:\n",
    "Find out whether the number is odd or even. Print \"Odd\" or \"Even\" for the corresponding cases. Note: In case of a decimal, Round off to nearest integer and then find the output. In case the input is zero, print \"Zero\".\n",
    "\n",
    "Sample Input :\n",
    "2\n",
    "Sample Output :\n",
    "Even'''\n",
    "\n",
    "num=int(input())\n",
    "if(num%2)==0:\n",
    "    print(\"Even\")\n",
    "else:\n",
    "    print(\"Odd\")"
   ]
  },
  {
   "cell_type": "code",
   "execution_count": 15,
   "id": "29364539",
   "metadata": {},
   "outputs": [
    {
     "name": "stdout",
     "output_type": "stream",
     "text": [
      "4\n",
      "4\n",
      "4\n",
      "4\n",
      "4\n",
      "4\n"
     ]
    }
   ],
   "source": [
    "'''12. Write a code to get the input and print it 5 times.\n",
    "\n",
    "Input Description:\n",
    "A single line contains an integer N.\n",
    "\n",
    "Output Description:\n",
    "Output contains 5 lines with each line having the value N.\n",
    "\n",
    "Sample Input :\n",
    "4\n",
    "Sample Output :\n",
    "4\n",
    "4\n",
    "4\n",
    "4\n",
    "4'''\n",
    "\n",
    "\n",
    "\n",
    "a=int(input())\n",
    "for i in range(5):\n",
    "    print(a)"
   ]
  },
  {
   "cell_type": "code",
   "execution_count": 16,
   "id": "fa40b04c",
   "metadata": {},
   "outputs": [
    {
     "name": "stdout",
     "output_type": "stream",
     "text": [
      "1 5 6\n",
      "-2.00\n",
      "-3.00\n"
     ]
    }
   ],
   "source": [
    "'''13. You are given the coefficients of a quadratic equation in order A, B & C.\n",
    "\n",
    "Where A is the coefficient of X2,  B is the coefficient of X and C is the constant term in the most simplified form.\n",
    "\n",
    "Example: For  X2 + 5X + 6 = 0, you are given the input as: 1 5 6.\n",
    "\n",
    "Write a program to find all of the roots of the quadratic.\n",
    "\n",
    "Note: The output should be up to 2nd decimal place (round off if needed) and in case of a recurring decimal use braces i.e. for eg: 0.33333..... => 0.33.\n",
    "\n",
    "Note: Use Shri Dharacharya's Method to solve i.e. X = {-b + √(b² - 4ac) } / 2a & {-b-√(b² -4ac)} / 2a\n",
    "\n",
    "Input Description:\n",
    "Three numbers corresponding to the coefficients of x(squared), x and constant are given as an input in that particular order\n",
    "\n",
    "Output Description:\n",
    "Print the two values of X after rounding off to 2 decimal places if required.\n",
    "\n",
    "Sample Input :\n",
    "1 5 6\n",
    "Sample Output :\n",
    "-2.00\n",
    "-3.00'''\n",
    "\n",
    "\n",
    "\n",
    "a,b,c = map(int,input().split())\n",
    "d = ((b**2)-(4*a*c))**0.5\n",
    "m = (d-b)/(2*a)\n",
    "n = -(d+b)/(2*a)\n",
    "print (format(m,\".2f\"))\n",
    "print (format(n,\".2f\"))"
   ]
  },
  {
   "cell_type": "code",
   "execution_count": 17,
   "id": "3ef1d83c",
   "metadata": {},
   "outputs": [
    {
     "name": "stdout",
     "output_type": "stream",
     "text": [
      "8\n",
      "31\n"
     ]
    }
   ],
   "source": [
    "'''14. You will be provided with a number. Print the number of days in the month corresponding to that number.\n",
    "\n",
    "Note: In case the input is February, print 28 days. If the Input is not in valid range print \"Error\".\n",
    "\n",
    "Input Description:\n",
    "The input is in the form of a number.\n",
    "\n",
    "Output Description:\n",
    "Find the days in the month corresponding to the input number. Print Error if the input is not in a valid range.\n",
    "\n",
    "Sample Input :\n",
    "8\n",
    "Sample Output :\n",
    "31'''\n",
    "\n",
    "\n",
    "\n",
    "month_name = input()\n",
    "if month_name == \"2\":\n",
    "    print(\"28/29\")\n",
    "elif month_name in (\"4\", \"6\", \"9\", \"11\"):\n",
    "    print(\"30\")\n",
    "elif month_name in (\"1\", \"3\", \"5\", \"7\", \"8\", \"10\", \"12\"):\n",
    "    print(\"31\")\n",
    "else:\n",
    "    print(\"Error\")"
   ]
  },
  {
   "cell_type": "code",
   "execution_count": 18,
   "id": "a5d05c84",
   "metadata": {},
   "outputs": [
    {
     "name": "stdout",
     "output_type": "stream",
     "text": [
      "2 3\n",
      "2\n",
      "2\n",
      "2\n"
     ]
    }
   ],
   "source": [
    "'''15. Write a code to get 2 integers A and N. Print the integer A, N times in separate line.\n",
    "\n",
    "Input Description:\n",
    "First line contains an integer A. Second line contains an Integer N.\n",
    "\n",
    "Output Description:\n",
    "Print the integer A, N times in a separate line.\n",
    "\n",
    "Sample Input :\n",
    "2 3\n",
    "Sample Output :\n",
    "2\n",
    "2\n",
    "2'''\n",
    "\n",
    "\n",
    "A, N = map(int,input().split())\n",
    "for i in range (N):\n",
    "    print (A)"
   ]
  },
  {
   "cell_type": "code",
   "execution_count": 19,
   "id": "8d4b8d33",
   "metadata": {},
   "outputs": [
    {
     "name": "stdout",
     "output_type": "stream",
     "text": [
      "12\n",
      "53.6\n"
     ]
    }
   ],
   "source": [
    "'''16. You are given with a number A i.e. the temperature in Celcius. Write a program to convert this into Fahrenheit. \n",
    "\n",
    "Note: In case of decimal values, round-off to two decimal places.\n",
    "\n",
    "Input Description:\n",
    "A number is provided in Celcius as the input of the program.\n",
    "\n",
    "Output Description:\n",
    "The output shall be the temperature converted into Fahrenheit corresponding to the input value print up to two decimal places and round off if required.\n",
    "\n",
    "Sample Input :\n",
    "12\n",
    "Sample Output :\n",
    "53.60'''\n",
    "\n",
    "\n",
    "temp=int(input())\n",
    "far=1.8*(temp)+32\n",
    "print(round(far,2))"
   ]
  },
  {
   "cell_type": "code",
   "execution_count": 20,
   "id": "579fa63a",
   "metadata": {},
   "outputs": [
    {
     "name": "stdout",
     "output_type": "stream",
     "text": [
      "10\n",
      "55\n"
     ]
    }
   ],
   "source": [
    "'''17. Write a code to get an integer N and print the sum of  values from 1 to N.\n",
    "\n",
    "Input Description:\n",
    "A single line contains an integer N.\n",
    "\n",
    "Output Description:\n",
    "Print the sum of values from 1 to N.\n",
    "\n",
    "Sample Input :\n",
    "10\n",
    "Sample Output :\n",
    "55'''\n",
    "\n",
    "a = int(input())\n",
    "k = 0\n",
    "for i in range (1,a+1):\n",
    "    k +=i\n",
    "print(k)"
   ]
  },
  {
   "cell_type": "code",
   "execution_count": 21,
   "id": "b4383704",
   "metadata": {},
   "outputs": [
    {
     "name": "stdout",
     "output_type": "stream",
     "text": [
      "20\n",
      "173.21\n"
     ]
    }
   ],
   "source": [
    "'''18. The area of an equilateral triangle is ¼(√3a2) where \"a\" represents a side of the triangle. You are provided with the side \"a\". Find the area of the equilateral triangle.\n",
    "\n",
    "Input Description:\n",
    "The side of an equilateral triangle is provided as the input.\n",
    "\n",
    "Output Description:\n",
    "Find the area of the equilateral triangle and print the answer up to 2 decimal places after rounding off.\n",
    "\n",
    "Sample Input :\n",
    "20\n",
    "Sample Output :\n",
    "173.21'''\n",
    "\n",
    "\n",
    "import math\n",
    "side = float(input())\n",
    "Area = (math.sqrt(3)/ 4)*(side * side)\n",
    "print(\"%.2f\"%Area)"
   ]
  },
  {
   "cell_type": "code",
   "execution_count": 22,
   "id": "95685f6a",
   "metadata": {},
   "outputs": [
    {
     "name": "stdout",
     "output_type": "stream",
     "text": [
      "348\n",
      "3 4 8\n"
     ]
    }
   ],
   "source": [
    "'''19. Write a code to get an integer N and print the digits of the integer.\n",
    "\n",
    "Input Description:\n",
    "A single line contains an integer N.\n",
    "\n",
    "Output Description:\n",
    "Print the digits of the integer in a single line separated by space,\n",
    "\n",
    "Sample Input :\n",
    "348\n",
    "Sample Output :\n",
    "3 4 8'''\n",
    "\n",
    "\n",
    "\n",
    "a = input()\n",
    "arr = []\n",
    "for i in a:\n",
    "    arr.append(i)\n",
    "print(*arr)"
   ]
  },
  {
   "cell_type": "code",
   "execution_count": 23,
   "id": "0c06f97b",
   "metadata": {},
   "outputs": [
    {
     "name": "stdout",
     "output_type": "stream",
     "text": [
      "10\n",
      "10\n",
      "9\n",
      "8\n",
      "7\n",
      "6\n",
      "5\n",
      "4\n",
      "3\n",
      "2\n",
      "1\n"
     ]
    }
   ],
   "source": [
    "'''20. Write a code to get an integer N and print the values from N to 1.\n",
    "\n",
    "Input Description:\n",
    "A single line contains an integer N.\n",
    "\n",
    "Output Description:\n",
    "Print the values from N to 1 in a separate line.\n",
    "\n",
    "Sample Input :\n",
    "10\n",
    "Sample Output :\n",
    "10\n",
    "9\n",
    "8\n",
    "7\n",
    "6\n",
    "5\n",
    "4\n",
    "3\n",
    "2\n",
    "1'''\n",
    "\n",
    "\n",
    "\n",
    "N=int(input())\n",
    "for i in range(N, 0, -1):\n",
    "        print(i)\n",
    " "
   ]
  },
  {
   "cell_type": "code",
   "execution_count": 24,
   "id": "e3caf75c",
   "metadata": {},
   "outputs": [
    {
     "name": "stdout",
     "output_type": "stream",
     "text": [
      "5\n",
      "1\n",
      "2\n",
      "3\n",
      "4\n",
      "5\n"
     ]
    }
   ],
   "source": [
    "'''21. Write a code to get an integer N and print values from 1 till N in a separate line.\n",
    "\n",
    "Input Description:\n",
    "A single line contains an integer N.\n",
    "\n",
    "Output Description:\n",
    "Print the values from 1 to N in a separate line.\n",
    "\n",
    "Sample Input :\n",
    "5\n",
    "Sample Output :\n",
    "1\n",
    "2\n",
    "3\n",
    "4\n",
    "5'''\n",
    "\n",
    "\n",
    "\n",
    "n = int (input())\n",
    "for i in range (1, n+1):\n",
    "    print(i)"
   ]
  },
  {
   "cell_type": "code",
   "execution_count": 25,
   "id": "c7dd7e6f",
   "metadata": {},
   "outputs": [
    {
     "name": "stdout",
     "output_type": "stream",
     "text": [
      "GUVi\n",
      "iVUG\n"
     ]
    }
   ],
   "source": [
    "'''22. Write a program to get a string as input and reverse the string without using temporary variable.\n",
    "\n",
    "Input Description:\n",
    "A single line containing a string.\n",
    "\n",
    "Output Description:\n",
    "Print the reversed string.\n",
    "\n",
    "Sample Input :\n",
    "GUVI\n",
    "Sample Output :\n",
    "IVUG'''\n",
    "\n",
    "\n",
    "a=input()\n",
    "print(a[::-1])"
   ]
  },
  {
   "cell_type": "code",
   "execution_count": 26,
   "id": "5598a7ce",
   "metadata": {},
   "outputs": [
    {
     "name": "stdout",
     "output_type": "stream",
     "text": [
      "124\n",
      "7\n"
     ]
    }
   ],
   "source": [
    "'''23. Write a code get an integer number as input and print the sum of the digits.\n",
    "\n",
    "Input Description:\n",
    "A single line containing an integer.\n",
    "\n",
    "Output Description:\n",
    "Print the sum of the digits of the integer.\n",
    "\n",
    "Sample Input :\n",
    "124\n",
    "Sample Output :\n",
    "7'''\n",
    "\n",
    "\n",
    "\n",
    "n=int(input())\n",
    "tot=0\n",
    "while(n>0):\n",
    "    dig=n%10\n",
    "    tot=tot+dig\n",
    "    n=n//10\n",
    "print(tot)"
   ]
  },
  {
   "cell_type": "code",
   "execution_count": 27,
   "id": "79e044f6",
   "metadata": {},
   "outputs": [
    {
     "name": "stdout",
     "output_type": "stream",
     "text": [
      "1234\n",
      "2 4\n",
      "1 3\n"
     ]
    }
   ],
   "source": [
    "'''24. Write a code get an integer number as input and print the odd and even digits of the number separately.\n",
    "\n",
    "Input Description:\n",
    "A single line containing an integer.\n",
    "\n",
    "Output Description:\n",
    "Print the even and odd integers of the integer in a separate line.\n",
    "\n",
    "Sample Input :\n",
    "1234\n",
    "Sample Output :\n",
    "2 4\n",
    "1 3'''\n",
    "\n",
    "\n",
    "\n",
    "a=int(input())\n",
    "ev=[]\n",
    "od=[]\n",
    "b=list(map(int, str(a)))\n",
    "for x in b:\n",
    "  if (x%2 ==0):\n",
    "    ev.append(x)\n",
    "  else:\n",
    "    od.append(x)\n",
    "print(*sorted(ev))\n",
    "print(*sorted(od))"
   ]
  },
  {
   "cell_type": "code",
   "execution_count": 28,
   "id": "2a0d2690",
   "metadata": {},
   "outputs": [
    {
     "name": "stdout",
     "output_type": "stream",
     "text": [
      "6\n",
      "2\n",
      "4\n",
      "6\n"
     ]
    }
   ],
   "source": [
    "'''25. Write a code to get an integer N and print the even values from 1 till N in a separate line.\n",
    "\n",
    "Input Description:\n",
    "A single line contains an integer N.\n",
    "\n",
    "Output Description:\n",
    "Print the even values from 1 to N in a separate line.\n",
    "\n",
    "Sample Input :\n",
    "6\n",
    "Sample Output :\n",
    "2\n",
    "4\n",
    "6'''\n",
    "\n",
    "\n",
    "num = int(input())\n",
    "for i in range(1, num+1):\n",
    "    if i % 2 == 0:\n",
    "        print(i)"
   ]
  },
  {
   "cell_type": "code",
   "execution_count": 29,
   "id": "0729c6ea",
   "metadata": {},
   "outputs": [
    {
     "name": "stdout",
     "output_type": "stream",
     "text": [
      "1\n",
      "2\n",
      "3\n",
      "3.0\n"
     ]
    }
   ],
   "source": [
    "'''26. You are given three numbers A, B & C. Print the largest amongst these three numbers.\n",
    "\n",
    "Input Description:\n",
    "Three numbers are provided to you.\n",
    "\n",
    "Output Description:\n",
    "Find and print the largest among the three\n",
    "\n",
    "Sample Input :\n",
    "1\n",
    "2\n",
    "3\n",
    "Sample Output :\n",
    "3'''\n",
    "\n",
    "\n",
    "\n",
    "num1 = float(input())\n",
    "num2 = float(input())\n",
    "num3 = float(input())\n",
    " \n",
    "if (num1 > num2) and (num1 > num3):\n",
    "   largest = num1\n",
    "elif (num2 > num1) and (num2 > num3):\n",
    "   largest = num2\n",
    "else:\n",
    "   largest = num3\n",
    " \n",
    "print(largest)"
   ]
  },
  {
   "cell_type": "code",
   "execution_count": 31,
   "id": "59e1e6f5",
   "metadata": {},
   "outputs": [
    {
     "name": "stdout",
     "output_type": "stream",
     "text": [
      "Lorem Ipsum\n",
      "10\n"
     ]
    }
   ],
   "source": [
    "'''27. Let \"A\"  be a string. Remove all the whitespaces and find it's length.\n",
    "\n",
    "Input Description:\n",
    "A string is provide as an input\n",
    "\n",
    "Output Description:\n",
    "Remove all the whitespaces and then print the length of the remaining string.\n",
    "\n",
    "Sample Input :\n",
    "Lorem Ipsum\n",
    "Sample Output :\n",
    "10'''\n",
    "\n",
    "\n",
    "\n",
    "a = input()\n",
    "list1 = a.split()\n",
    "new = ''.join(list1)\n",
    "print(len(new))"
   ]
  },
  {
   "cell_type": "code",
   "execution_count": 33,
   "id": "e665087a",
   "metadata": {},
   "outputs": [
    {
     "name": "stdout",
     "output_type": "stream",
     "text": [
      "2 3\n",
      "1\n"
     ]
    }
   ],
   "source": [
    "'''28. Write a code to get 2 integers as input and find the HCF of the 2 integer without using recursion or Euclidean algorithm.\n",
    "\n",
    "Input Description:\n",
    "A single line containing 2 integers separated by space.\n",
    "\n",
    "Output Description:\n",
    "Print the HCF of the integers.\n",
    "\n",
    "Sample Input :\n",
    "2 3\n",
    "Sample Output :\n",
    "1'''\n",
    "\n",
    "\n",
    "\n",
    "\n",
    "import math\n",
    "x,y = map(int,input().split(\" \"))\n",
    "print(math.gcd(x,y))"
   ]
  },
  {
   "cell_type": "code",
   "execution_count": 34,
   "id": "cb320e08",
   "metadata": {},
   "outputs": [
    {
     "name": "stdout",
     "output_type": "stream",
     "text": [
      "18\n",
      "324\n"
     ]
    }
   ],
   "source": [
    "'''29. You are provided with a number \"N\", Find the Nth term of the series: 1, 4, 9, 16, 25, 36, 49, 64, 81, .......\n",
    "\n",
    "(Print \"Error\" if N = negative value and 0 if N = 0).\n",
    "\n",
    "Input Description:\n",
    "An integer N is provided to you as the input.\n",
    "\n",
    "Output Description:\n",
    "Find the Nth term in the provided series.\n",
    "\n",
    "Sample Input :\n",
    "18\n",
    "Sample Output :\n",
    "324'''\n",
    "\n",
    "\n",
    "\n",
    "\n",
    "N=int(input())\n",
    "print(N**2)"
   ]
  },
  {
   "cell_type": "code",
   "execution_count": 35,
   "id": "7ff4b3d3",
   "metadata": {},
   "outputs": [
    {
     "name": "stdout",
     "output_type": "stream",
     "text": [
      "3\n",
      "9 18 27\n"
     ]
    }
   ],
   "source": [
    "'''30. Using the method of looping, write a program to print the table of 9 till N in the format as follows:\n",
    "(N is input by the user)\n",
    "\n",
    "9 18 27...\n",
    "\n",
    "Print NULL if 0 is input\n",
    "\n",
    "Input Description:\n",
    "A positive integer is provided as an input.\n",
    "\n",
    "Output Description:\n",
    "Print the table of nine with single space between the elements till the number that is input.\n",
    "\n",
    "Sample Input :\n",
    "3\n",
    "Sample Output :\n",
    "9 18 27'''\n",
    "\n",
    "\n",
    "\n",
    "N = int(input())\n",
    "arr = []\n",
    "for i in range (1,N+1):\n",
    "    arr.append(i*9)\n",
    "print(*arr)"
   ]
  },
  {
   "cell_type": "code",
   "execution_count": null,
   "id": "6dc087c6",
   "metadata": {},
   "outputs": [],
   "source": []
  }
 ],
 "metadata": {
  "kernelspec": {
   "display_name": "Python 3 (ipykernel)",
   "language": "python",
   "name": "python3"
  },
  "language_info": {
   "codemirror_mode": {
    "name": "ipython",
    "version": 3
   },
   "file_extension": ".py",
   "mimetype": "text/x-python",
   "name": "python",
   "nbconvert_exporter": "python",
   "pygments_lexer": "ipython3",
   "version": "3.10.5"
  }
 },
 "nbformat": 4,
 "nbformat_minor": 5
}
